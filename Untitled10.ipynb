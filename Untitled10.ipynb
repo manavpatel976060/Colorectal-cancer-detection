{
 "cells": [
  {
   "cell_type": "code",
   "execution_count": 14,
   "metadata": {
    "id": "_ZjdEhNDx7Dn"
   },
   "outputs": [],
   "source": [
    "from tensorflow.keras.models import Sequential\n",
    "from tensorflow.keras.layers import Conv2D, MaxPooling2D, Flatten, Dense, Dropout"
   ]
  },
  {
   "cell_type": "code",
   "execution_count": 24,
   "metadata": {
    "colab": {
     "base_uri": "https://localhost:8080/"
    },
    "id": "vPCFbQ3dyIEq",
    "outputId": "5aa7260a-caa1-4676-84cc-fb9e9e8acff5"
   },
   "outputs": [
    {
     "name": "stdout",
     "output_type": "stream",
     "text": [
      "Found 640 images belonging to 4 classes.\n",
      "Found 160 images belonging to 4 classes.\n",
      "Found 800 images belonging to 4 classes.\n"
     ]
    }
   ],
   "source": [
    "from tensorflow.keras.preprocessing.image import ImageDataGenerator\n",
    "\n",
    "# Set your data directory\n",
    "data_directory = '/content/drive/MyDrive/capstone'\n",
    "\n",
    "# Create an ImageDataGenerator instance with appropriate preprocessing\n",
    "datagen = ImageDataGenerator(\n",
    "    rescale=1./255,  # Normalize pixel values to be between 0 and 1\n",
    "    shear_range=0.2,  # Randomly apply shear transformations\n",
    "    zoom_range=0.2,   # Randomly zoom in images\n",
    "    horizontal_flip=True,  # Randomly flip images horizontally\n",
    "    validation_split=0.2, # Split data into training and validation sets\n",
    ")\n",
    "\n",
    "# Create image generators for training and validation sets\n",
    "batch_size = 32\n",
    "train_generator = datagen.flow_from_directory(\n",
    "    data_directory,\n",
    "    target_size=(224, 224),  # Adjust based on the input shape of your model\n",
    "    batch_size=batch_size,\n",
    "    class_mode='categorical',  # Change if you have a binary or regression problem\n",
    "    subset='training'\n",
    ")\n",
    "\n",
    "validation_generator = datagen.flow_from_directory(\n",
    "    data_directory,\n",
    "    target_size=(224, 224),\n",
    "    batch_size=batch_size,\n",
    "    class_mode='categorical',\n",
    "    subset='validation'\n",
    ")\n",
    "# Assuming your model is already compiled and trained\n",
    "\n",
    "# Load and preprocess a set of test images\n",
    "test_datagen = ImageDataGenerator(rescale=1./255)\n",
    "test_generator = test_datagen.flow_from_directory(\n",
    "    data_directory,\n",
    "    target_size=(224, 224),\n",
    "    batch_size=batch_size,\n",
    "    class_mode='categorical'\n",
    ")\n"
   ]
  },
  {
   "cell_type": "code",
   "execution_count": 25,
   "metadata": {
    "id": "PPxB6-geyV3x"
   },
   "outputs": [],
   "source": [
    "def custom_vgg16_model(input_shape, num_classes):\n",
    "    model = Sequential()\n",
    "\n",
    "    # Block 1\n",
    "    model.add(Conv2D(64, (3, 3), activation='relu', padding='same', input_shape=input_shape))\n",
    "    model.add(Conv2D(64, (3, 3), activation='relu', padding='same'))\n",
    "    model.add(MaxPooling2D(pool_size=(2, 2), strides=(2, 2)))\n",
    "\n",
    "    # Block 2\n",
    "    model.add(Conv2D(128, (3, 3), activation='relu', padding='same'))\n",
    "    model.add(Conv2D(128, (3, 3), activation='relu', padding='same'))\n",
    "    model.add(MaxPooling2D(pool_size=(2, 2), strides=(2, 2)))\n",
    "\n",
    "    # Block 3\n",
    "    model.add(Conv2D(256, (3, 3), activation='relu', padding='same'))\n",
    "    model.add(Conv2D(256, (3, 3), activation='relu', padding='same'))\n",
    "    model.add(Conv2D(256, (3, 3), activation='relu', padding='same'))\n",
    "    model.add(MaxPooling2D(pool_size=(2, 2), strides=(2, 2)))\n",
    "\n",
    "    # Block 4\n",
    "    model.add(Conv2D(512, (3, 3), activation='relu', padding='same'))\n",
    "    model.add(Conv2D(512, (3, 3), activation='relu', padding='same'))\n",
    "    model.add(Conv2D(512, (3, 3), activation='relu', padding='same'))\n",
    "    model.add(MaxPooling2D(pool_size=(2, 2), strides=(2, 2)))\n",
    "\n",
    "    # Block 5\n",
    "    model.add(Conv2D(512, (3, 3), activation='relu', padding='same'))\n",
    "    model.add(Conv2D(512, (3, 3), activation='relu', padding='same'))\n",
    "    model.add(Conv2D(512, (3, 3), activation='relu', padding='same'))\n",
    "    model.add(MaxPooling2D(pool_size=(2, 2), strides=(2, 2)))\n",
    "\n",
    "    # Fully connected layers\n",
    "    model.add(Flatten())\n",
    "    model.add(Dense(4096, activation='relu'))\n",
    "    model.add(Dropout(0.5))\n",
    "    model.add(Dense(4096, activation='relu'))\n",
    "    model.add(Dropout(0.5))\n",
    "    model.add(Dense(num_classes, activation='softmax'))\n",
    "\n",
    "    return model\n"
   ]
  },
  {
   "cell_type": "code",
   "execution_count": 26,
   "metadata": {
    "id": "wtgOaTsAywO8"
   },
   "outputs": [],
   "source": [
    "input_shape = (224, 224, 3)  # Adjust based on the input shape of your model\n",
    "num_classes = len(train_generator.class_indices)\n",
    "model = custom_vgg16_model(input_shape, num_classes)"
   ]
  },
  {
   "cell_type": "code",
   "execution_count": 27,
   "metadata": {
    "colab": {
     "base_uri": "https://localhost:8080/"
    },
    "id": "W0Ez1y4ZyVt4",
    "outputId": "a5e61529-ffe0-4ab3-fc93-d4ec6e7eb367"
   },
   "outputs": [
    {
     "name": "stdout",
     "output_type": "stream",
     "text": [
      "Epoch 1/10\n",
      "20/20 [==============================] - 27s 1s/step - loss: 1.5117 - accuracy: 0.2422 - val_loss: 1.3865 - val_accuracy: 0.2500\n",
      "Epoch 2/10\n",
      "20/20 [==============================] - 20s 1s/step - loss: 1.4825 - accuracy: 0.2188 - val_loss: 1.3881 - val_accuracy: 0.2500\n",
      "Epoch 3/10\n",
      "20/20 [==============================] - 21s 1s/step - loss: 1.3941 - accuracy: 0.2516 - val_loss: 1.3871 - val_accuracy: 0.2500\n",
      "Epoch 4/10\n",
      "20/20 [==============================] - 21s 1s/step - loss: 1.3883 - accuracy: 0.2359 - val_loss: 1.3867 - val_accuracy: 0.2500\n",
      "Epoch 5/10\n",
      "20/20 [==============================] - 20s 999ms/step - loss: 1.3875 - accuracy: 0.2438 - val_loss: 1.3864 - val_accuracy: 0.2500\n",
      "Epoch 6/10\n",
      "20/20 [==============================] - 21s 1s/step - loss: 1.3878 - accuracy: 0.2266 - val_loss: 1.3864 - val_accuracy: 0.2500\n",
      "Epoch 7/10\n",
      "20/20 [==============================] - 21s 1s/step - loss: 1.3870 - accuracy: 0.2234 - val_loss: 1.3864 - val_accuracy: 0.2500\n",
      "Epoch 8/10\n",
      "20/20 [==============================] - 21s 1s/step - loss: 1.3870 - accuracy: 0.2438 - val_loss: 1.3865 - val_accuracy: 0.2500\n",
      "Epoch 9/10\n",
      "20/20 [==============================] - 22s 1s/step - loss: 1.3882 - accuracy: 0.2594 - val_loss: 1.3864 - val_accuracy: 0.2500\n",
      "Epoch 10/10\n",
      "20/20 [==============================] - 20s 1s/step - loss: 1.3872 - accuracy: 0.2328 - val_loss: 1.3863 - val_accuracy: 0.2500\n"
     ]
    },
    {
     "data": {
      "text/plain": [
       "<keras.src.callbacks.History at 0x7f9522784370>"
      ]
     },
     "execution_count": 27,
     "metadata": {},
     "output_type": "execute_result"
    }
   ],
   "source": [
    "model.compile(optimizer='adam', loss='categorical_crossentropy', metrics=['accuracy'])\n",
    "\n",
    "# Train the model\n",
    "epochs = 10  # Adjust the number of epochs based on your requirements\n",
    "model.fit(\n",
    "    train_generator,\n",
    "    steps_per_epoch=train_generator.samples // batch_size,\n",
    "    epochs=epochs,\n",
    "    validation_data=validation_generator,\n",
    "    validation_steps=validation_generator.samples // batch_size\n",
    ")"
   ]
  },
  {
   "cell_type": "code",
   "execution_count": 21,
   "metadata": {
    "colab": {
     "base_uri": "https://localhost:8080/"
    },
    "id": "3mpcUjUGyVqq",
    "outputId": "aa20fe59-a79c-4386-f5af-101f112ea10a"
   },
   "outputs": [
    {
     "name": "stdout",
     "output_type": "stream",
     "text": [
      "5/5 [==============================] - 3s 669ms/step - loss: 1.3864 - accuracy: 0.2500\n",
      "Validation Accuracy: 25.00%\n"
     ]
    }
   ],
   "source": [
    "# Assuming your model is already compiled and trained\n",
    "\n",
    "# Evaluate the model on the validation set\n",
    "evaluation = model.evaluate(validation_generator)\n",
    "\n",
    "# The `evaluate` method returns a list of metrics. You can print the accuracy like this:\n",
    "accuracy = evaluation[1]\n",
    "print(f'Validation Accuracy: {accuracy * 100:.2f}%')\n"
   ]
  },
  {
   "cell_type": "code",
   "execution_count": 28,
   "metadata": {
    "colab": {
     "base_uri": "https://localhost:8080/"
    },
    "id": "fn2CJu9oyVdY",
    "outputId": "cc821f4c-d65c-4888-a33d-a658664a5f47"
   },
   "outputs": [
    {
     "name": "stdout",
     "output_type": "stream",
     "text": [
      "25/25 [==============================] - 10s 390ms/step - loss: 1.3863 - accuracy: 0.2500\n",
      "Test Accuracy: 25.00%\n"
     ]
    }
   ],
   "source": [
    "test_evaluation = model.evaluate(test_generator)\n",
    "\n",
    "# Print the test accuracy\n",
    "test_accuracy = test_evaluation[1]\n",
    "print(f'Test Accuracy: {test_accuracy * 100:.2f}%')"
   ]
  },
  {
   "cell_type": "code",
   "execution_count": null,
   "metadata": {
    "id": "XgUMjl45-xZi"
   },
   "outputs": [],
   "source": []
  }
 ],
 "metadata": {
  "accelerator": "GPU",
  "colab": {
   "gpuType": "T4",
   "provenance": []
  },
  "kernelspec": {
   "display_name": "Python 3 (ipykernel)",
   "language": "python",
   "name": "python3"
  },
  "language_info": {
   "codemirror_mode": {
    "name": "ipython",
    "version": 3
   },
   "file_extension": ".py",
   "mimetype": "text/x-python",
   "name": "python",
   "nbconvert_exporter": "python",
   "pygments_lexer": "ipython3",
   "version": "3.9.12"
  }
 },
 "nbformat": 4,
 "nbformat_minor": 1
}
